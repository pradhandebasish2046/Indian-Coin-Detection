{
  "cells": [
    {
      "cell_type": "code",
      "execution_count": null,
      "metadata": {
        "colab": {
          "base_uri": "https://localhost:8080/"
        },
        "id": "2EH6omwbyoAX",
        "outputId": "3c333a81-2aeb-458f-acc0-71c28efbbab6"
      },
      "outputs": [],
      "source": [
        "!pip install ultralytics"
      ]
    },
    {
      "cell_type": "code",
      "execution_count": null,
      "metadata": {
        "colab": {
          "base_uri": "https://localhost:8080/"
        },
        "id": "T9T8Q6K-ys4O",
        "outputId": "99587135-18d3-4057-eaa7-ddb93f74089f"
      },
      "outputs": [],
      "source": [
        "from google.colab import drive\n",
        "\n",
        "drive.mount('/content/gdrive')"
      ]
    },
    {
      "cell_type": "code",
      "execution_count": null,
      "metadata": {
        "colab": {
          "base_uri": "https://localhost:8080/",
          "height": 53
        },
        "id": "qazl4XiLyue3",
        "outputId": "8a818578-0c56-4be1-8371-a533dd58a81c"
      },
      "outputs": [],
      "source": [
        "\"\"\"\n",
        "function ConnectButton(){\n",
        "    console.log(\"Connect pushed\");\n",
        "    document.querySelector(\"#top-toolbar > colab-connect-button\").shadowRoot.querySelector(\"#connect\").click()\n",
        "}\n",
        "\n",
        "var colab = setInterval(ConnectButton,60000);\n",
        "\"\"\""
      ]
    },
    {
      "cell_type": "code",
      "execution_count": null,
      "metadata": {
        "id": "4CIkQtIEyv85"
      },
      "outputs": [],
      "source": [
        "ROOT_DIR = \"/content/gdrive/MyDrive/yolov8/Object-Detection/coin-det/\""
      ]
    },
    {
      "cell_type": "markdown",
      "metadata": {
        "id": "kwNdHKNWVvf7"
      },
      "source": [
        "# YOLO-MEDIUM"
      ]
    },
    {
      "cell_type": "code",
      "execution_count": null,
      "metadata": {
        "colab": {
          "base_uri": "https://localhost:8080/",
          "height": 1000
        },
        "id": "rOFfacYNVu2-",
        "outputId": "25ec65d8-e352-4394-f8a4-77284ae267cc"
      },
      "outputs": [],
      "source": [
        "%%time\n",
        "import os\n",
        "\n",
        "from ultralytics import YOLO\n",
        "\n",
        "save_dir = os.path.join(ROOT_DIR,\"yolo-medium\")\n",
        "# Load a model\n",
        "model = YOLO(\"yolov8m.yaml\")\n",
        "model = YOLO(\"yolov8m.pt\")\n",
        "\n",
        "# train the model\n",
        "results = model.train(data=os.path.join(ROOT_DIR, \"config.yaml\"), epochs=150,imgsz=640,project = save_dir)"
      ]
    },
    {
      "cell_type": "markdown",
      "metadata": {
        "id": "vHxbLowDZxkw"
      },
      "source": [
        "# YOLO SMALL"
      ]
    },
    {
      "cell_type": "code",
      "execution_count": null,
      "metadata": {
        "colab": {
          "base_uri": "https://localhost:8080/"
        },
        "id": "6U0Lq786y4SK",
        "outputId": "047f0c71-89b4-4c52-f54c-9dd86abbb4c6"
      },
      "outputs": [],
      "source": [
        "%%time\n",
        "import os\n",
        "\n",
        "from ultralytics import YOLO\n",
        "\n",
        "\n",
        "# Load a model\n",
        "model = YOLO(\"yolov8s.yaml\")\n",
        "model = YOLO(\"yolov8s.pt\")\n",
        "\n",
        "# Use the model\n",
        "results = model.train(data=os.path.join(ROOT_DIR, \"config.yaml\"), epochs=100,imgsz=640)  # train the model"
      ]
    },
    {
      "cell_type": "code",
      "execution_count": null,
      "metadata": {
        "id": "pKPO6P3iNJTG"
      },
      "outputs": [],
      "source": [
        "import locale\n",
        "locale.getpreferredencoding = lambda: \"UTF-8\""
      ]
    },
    {
      "cell_type": "code",
      "execution_count": null,
      "metadata": {
        "id": "akAY3E8H9BpO"
      },
      "outputs": [],
      "source": [
        "!scp -r /content/runs \"/content/gdrive/MyDrive/yolov8/Object-Detection/coin-det/yolo-small\""
      ]
    },
    {
      "cell_type": "code",
      "execution_count": null,
      "metadata": {
        "id": "DGYiEjLLex6J"
      },
      "outputs": [],
      "source": [
        "# results2 = model.train(resume=True)"
      ]
    },
    {
      "cell_type": "code",
      "execution_count": null,
      "metadata": {
        "id": "SFRQ2K0JgRkO"
      },
      "outputs": [],
      "source": [
        "# model = YOLO(\"yolov8n.yaml\")\n",
        "# model = YOLO(\"/content/runs/detect/train/weights/last.pt\")\n",
        "\n",
        "# # Use the model\n",
        "# results2 = model.train(data=os.path.join(ROOT_DIR, \"config.yaml\"), epochs=2,imgsz=640)"
      ]
    },
    {
      "cell_type": "code",
      "execution_count": null,
      "metadata": {
        "id": "atHoLDVWrv3y"
      },
      "outputs": [],
      "source": [
        "# model = YOLO(\"yolov8n.yaml\")\n",
        "# model = YOLO(\"/content/runs/detect/train2/weights/last.pt\")\n",
        "\n",
        "# # Use the model\n",
        "# results2 = model.train(data=os.path.join(ROOT_DIR, \"config.yaml\"), epochs=8,imgsz=640)"
      ]
    },
    {
      "cell_type": "markdown",
      "metadata": {
        "id": "R7oW-JAcXNPk"
      },
      "source": [
        "#Prediction"
      ]
    },
    {
      "cell_type": "markdown",
      "metadata": {
        "id": "AiAPFIAfXPj0"
      },
      "source": [
        "##Images"
      ]
    },
    {
      "cell_type": "code",
      "execution_count": null,
      "metadata": {
        "id": "sOeq7QBC-HV6"
      },
      "outputs": [],
      "source": [
        "import os\n",
        "\n",
        "from ultralytics import YOLO\n",
        "import cv2\n",
        "medium_model_path = \"/content/gdrive/MyDrive/yolov8/Object-Detection/coin-det/yolo-medium/train/weights/best.pt\"\n",
        "small_model_path = \"/content/gdrive/MyDrive/yolov8/Object-Detection/coin-det/yolo-small/runs/detect/train/weights/best.pt\"\n",
        "\n",
        "#model_path = \"/content/runs/detect/train/weights/best.pt\"\n",
        "model = YOLO(medium_model_path)"
      ]
    },
    {
      "cell_type": "code",
      "execution_count": null,
      "metadata": {
        "id": "1KFYgP-_POgr"
      },
      "outputs": [],
      "source": [
        "import cv2\n",
        "\n",
        "def write_label_bounding_box(img, class_id, x1, y1, x2, y2, score,result):\n",
        "  score_str = 'Score: {:.2f}'.format(score)\n",
        "  class_name = result.names[int(class_id)].replace(\"₹\", \"\")\n",
        "  text = class_name + ' ' + score_str\n",
        "\n",
        "  if class_id == 0:\n",
        "      color = (255, 128, 0)\n",
        "  elif class_id == 1:\n",
        "      color = (0, 165, 255)\n",
        "  elif class_id == 2:\n",
        "      color = (147, 20, 255)\n",
        "  elif class_id == 3:\n",
        "      color = (255, 0, 255)\n",
        "  else:\n",
        "      color = (0, 0, 0)  # Default color\n",
        "\n",
        "  cv2.rectangle(img, (int(x1), int(y1)), (int(x2), int(y2)), color, 20)\n",
        "  cv2.putText(img, text, (int(x1), int(y1 - 30)), cv2.FONT_HERSHEY_SIMPLEX, 4, color, 20, cv2.LINE_AA)\n",
        "\n",
        "  return img"
      ]
    },
    {
      "cell_type": "code",
      "execution_count": null,
      "metadata": {
        "id": "EmL7WdhiP1KP"
      },
      "outputs": [],
      "source": [
        "def prediction(img,model):\n",
        "  #img = cv2.imread(path, cv2.IMREAD_UNCHANGED)\n",
        "  results = model(img)#[0]\n",
        "  result = results[0]\n",
        "  threshold = 65\n",
        "  output = {}\n",
        "  output['₹1'],output['₹2'],output['₹5'],output['₹10'] = 0,0,0,0\n",
        "\n",
        "  for i in result.boxes.data.tolist():\n",
        "    x1, y1, x2, y2, score, class_id = i\n",
        "    if score >= threshold/100:\n",
        "      pred_class = result.names[class_id]\n",
        "\n",
        "      output[pred_class] += 1\n",
        "      img = write_label_bounding_box(img,class_id,x1, y1, x2, y2,score,result)\n",
        "\n",
        "\n",
        "  total = (output['₹1'])+(2*output['₹2'])+(5*output['₹5'])+(10*output['₹10'])\n",
        "\n",
        "  text = f\"Total = {total}\"\n",
        "  font = cv2.FONT_HERSHEY_SIMPLEX\n",
        "  font_scale = 1\n",
        "  color = (0, 255, 0)\n",
        "  thickness = 2\n",
        "  #text_size = cv2.getTextSize(text, font, font_scale, thickness)[0]\n",
        "  height, width, _ = img.shape\n",
        "  #print(height,width)\n",
        "\n",
        "  # Define the position for the text (adjust as needed)\n",
        "  x = height - 1000  # X-coordinate (vertical)\n",
        "  y = width - 1000   # Y-coordinate (horizontal)\n",
        "  x,y = 500,300\n",
        "\n",
        "  # Put text on the image\n",
        "  cv2.putText(img, text, (x, y), cv2.FONT_HERSHEY_SIMPLEX, 10, color, 30, cv2.LINE_AA)\n",
        "\n",
        "  return img"
      ]
    },
    {
      "cell_type": "code",
      "execution_count": null,
      "metadata": {
        "colab": {
          "base_uri": "https://localhost:8080/",
          "height": 905
        },
        "id": "aeUBXYNPQ8LH",
        "outputId": "aa06d378-3ae5-4144-dc24-acdd87ec4e6d"
      },
      "outputs": [],
      "source": [
        "path = \"/content/gdrive/MyDrive/yolov8/Object-Detection/coin-det/test-data /IMG20230827213305.jpg\"\n",
        "img = cv2.imread(path)\n",
        "img = prediction(img,model)\n",
        "scale_percent = 10 # percent of original size\n",
        "width = int(img.shape[1] * scale_percent / 100)\n",
        "height = int(img.shape[0] * scale_percent / 100)\n",
        "dim = (width, height)\n",
        "\n",
        "# resize image\n",
        "resized = cv2.resize(img, dim, interpolation = cv2.INTER_AREA)\n",
        "cv2_imshow(resized)"
      ]
    },
    {
      "cell_type": "markdown",
      "metadata": {
        "id": "MA64QFAKXthi"
      },
      "source": [
        "##Videos"
      ]
    },
    {
      "cell_type": "code",
      "execution_count": null,
      "metadata": {
        "id": "W9YQ8bOYcNEU"
      },
      "outputs": [],
      "source": [
        "import cv2\n",
        "\n",
        "def write_label_bounding_box(img, class_id, x1, y1, x2, y2, score,result):\n",
        "  score_str = 'Score: {:.2f}'.format(score)\n",
        "  class_name = result.names[int(class_id)].replace(\"₹\", \"\")\n",
        "  text = class_name + ' ' + score_str\n",
        "\n",
        "  if class_id == 0:\n",
        "      color = (255, 128, 0)\n",
        "  elif class_id == 1:\n",
        "      color = (0, 165, 255)\n",
        "  elif class_id == 2:\n",
        "      color = (147, 20, 255)\n",
        "  elif class_id == 3:\n",
        "      color = (255, 0, 255)\n",
        "  else:\n",
        "      color = (0, 0, 0)  # Default color\n",
        "\n",
        "  cv2.rectangle(img, (int(x1), int(y1)), (int(x2), int(y2)), color, 2)\n",
        "  cv2.putText(img, text, (int(x1), int(y1 - 5)), cv2.FONT_HERSHEY_SIMPLEX, 0.5, color, 2, cv2.LINE_AA)\n",
        "\n",
        "  return img"
      ]
    },
    {
      "cell_type": "code",
      "execution_count": null,
      "metadata": {
        "id": "SoP3NoSxcMOI"
      },
      "outputs": [],
      "source": [
        "def prediction(img,model):\n",
        "  #img = cv2.imread(path, cv2.IMREAD_UNCHANGED)\n",
        "  results = model(img)#[0]\n",
        "  result = results[0]\n",
        "  threshold = 65\n",
        "  output = {}\n",
        "  output['₹1'],output['₹2'],output['₹5'],output['₹10'] = 0,0,0,0\n",
        "\n",
        "  for i in result.boxes.data.tolist():\n",
        "    x1, y1, x2, y2, score, class_id = i\n",
        "    if score >= threshold/100:\n",
        "      pred_class = result.names[class_id]\n",
        "\n",
        "      output[pred_class] += 1\n",
        "      img = write_label_bounding_box(img,class_id,x1, y1, x2, y2,score,result)\n",
        "\n",
        "\n",
        "  total = (output['₹1'])+(2*output['₹2'])+(5*output['₹5'])+(10*output['₹10'])\n",
        "\n",
        "  text = f\"Total = {total}\"\n",
        "  font = cv2.FONT_HERSHEY_SIMPLEX\n",
        "  font_scale = 1\n",
        "  color = (0, 255, 0)\n",
        "  thickness = 2\n",
        "  #text_size = cv2.getTextSize(text, font, font_scale, thickness)[0]\n",
        "  height, width, _ = img.shape\n",
        "  #print(height,width)\n",
        "\n",
        "  # Define the position for the text (adjust as needed)\n",
        "  x = height - 1000  # X-coordinate (vertical)\n",
        "  y = width - 1000   # Y-coordinate (horizontal)\n",
        "  x,y = 50,30\n",
        "\n",
        "  # Put text on the image\n",
        "  cv2.putText(img, text, (x, y), cv2.FONT_HERSHEY_SIMPLEX, 1, color, 4, cv2.LINE_AA)\n",
        "\n",
        "  return img"
      ]
    },
    {
      "cell_type": "code",
      "execution_count": null,
      "metadata": {
        "colab": {
          "base_uri": "https://localhost:8080/"
        },
        "id": "hS7IQtnXYM2P",
        "outputId": "9b820adc-515c-477a-fd33-72c029e87c30"
      },
      "outputs": [],
      "source": [
        "import cv2\n",
        "from ultralytics import YOLO\n",
        "from google.colab.patches import cv2_imshow\n",
        "\n",
        "# Open the video file\n",
        "video_path = \"/content/gdrive/MyDrive/yolov8/Object-Detection/coin-det/test-data /VID20230916140154.mp4\"\n",
        "cap = cv2.VideoCapture(video_path)\n",
        "frame_width = int(cap.get(3))\n",
        "frame_height = int(cap.get(4))\n",
        "fps = int(cap.get(5))\n",
        "\n",
        "# Define the codec and create VideoWriter object\n",
        "fourcc = cv2.VideoWriter_fourcc(*'XVID')\n",
        "output_path = 'output_video.mp4'\n",
        "out = cv2.VideoWriter(output_path, fourcc, fps, (frame_width, frame_height))\n",
        "\n",
        "# Loop through the video frames\n",
        "while cap.isOpened():\n",
        "    # Read a frame from the video\n",
        "    success, frame = cap.read()\n",
        "\n",
        "    if success:\n",
        "        # Run YOLOv8 inference on the frame\n",
        "        #results = model(frame)\n",
        "\n",
        "        # Visualize the results on the frame\n",
        "        #annotated_frame = results[0].plot()\n",
        "        annotated_frame = prediction(frame,model)\n",
        "        #cv2_imshow(annotated_frame)\n",
        "        out.write(annotated_frame)\n",
        "        # Convert annotated_frame to OpenCV format\n",
        "        #annotated_frame = annotated_frame[:, :, ::-1]\n",
        "\n",
        "        # Display the annotated frame\n",
        "        #cv2_imshow(annotated_frame)\n",
        "\n",
        "        # Break the loop if 'q' is pressed\n",
        "        if cv2.waitKey(1) & 0xFF == ord(\"q\"):\n",
        "            break\n",
        "    else:\n",
        "        # Break the loop if the end of the video is reached\n",
        "        break\n",
        "\n",
        "# Release the video capture object and close the display window\n",
        "cap.release()\n",
        "out.release()\n",
        "cv2.destroyAllWindows()"
      ]
    },
    {
      "cell_type": "code",
      "execution_count": null,
      "metadata": {
        "id": "el_aX0xULXZs"
      },
      "outputs": [],
      "source": [
        "import cv2\n",
        "from ultralytics import YOLO\n",
        "from google.colab.patches import cv2_imshow\n",
        "# Load the YOLOv8 model\n",
        "#model = YOLO('yolov8n.pt')\n",
        "\n",
        "# Open the video file\n",
        "video_path = \"/content/gdrive/MyDrive/yolov8/Object-Detection/coin-det/test-data /VID20230916140100.mp4\"\n",
        "cap = cv2.VideoCapture(video_path)\n",
        "\n",
        "# Loop through the video frames\n",
        "while cap.isOpened():\n",
        "    # Read a frame from the video\n",
        "    success, frame = cap.read()\n",
        "\n",
        "    if success:\n",
        "        # Run YOLOv8 inference on the frame\n",
        "        results = model(frame)\n",
        "\n",
        "        # Visualize the results on the frame\n",
        "        annotated_frame = results[0].plot()\n",
        "\n",
        "        # Display the annotated frame\n",
        "        cv2_imshow(annotated_frame)\n",
        "\n",
        "        # Break the loop if 'q' is pressed\n",
        "        if cv2.waitKey(1) & 0xFF == ord(\"q\"):\n",
        "            break\n",
        "    else:\n",
        "        # Break the loop if the end of the video is reached\n",
        "        break\n",
        "\n",
        "# Release the video capture object and close the display window\n",
        "cap.release()\n",
        "cv2.destroyAllWindows()"
      ]
    },
    {
      "cell_type": "code",
      "execution_count": null,
      "metadata": {
        "id": "U4_2wGyQKSc5"
      },
      "outputs": [],
      "source": [
        "path = \"/content/gdrive/MyDrive/yolov8/Object-Detection/coin-det/test-data /VID20230916140100.mp4\"\n",
        "#path = \"/content/238.jpg\"\n",
        "results = model(path)#[0]\n",
        "result = results[0]\n",
        "result"
      ]
    },
    {
      "cell_type": "code",
      "execution_count": null,
      "metadata": {
        "colab": {
          "base_uri": "https://localhost:8080/"
        },
        "id": "AwIbbnilKfYH",
        "outputId": "eb161252-8b04-42bd-8fa9-ac1c4d214705"
      },
      "outputs": [],
      "source": [
        "len(result.boxes)"
      ]
    },
    {
      "cell_type": "code",
      "execution_count": null,
      "metadata": {
        "colab": {
          "base_uri": "https://localhost:8080/"
        },
        "id": "UtyRenL3IWyE",
        "outputId": "4cafd988-fbec-4d2f-a227-aade5ac46f22"
      },
      "outputs": [],
      "source": [
        "box = result.boxes[0]\n",
        "cords = box.xyxy[0].tolist()\n",
        "class_id = box.cls[0].item()\n",
        "conf = box.conf[0].item()\n",
        "print(\"Object type:\", class_id)\n",
        "print(\"Coordinates:\", cords)\n",
        "print(\"Probability:\", conf)"
      ]
    },
    {
      "cell_type": "code",
      "execution_count": null,
      "metadata": {
        "colab": {
          "base_uri": "https://localhost:8080/"
        },
        "id": "ByHZKX5qMHio",
        "outputId": "21e00250-c4b1-4a04-de79-c64f2fcf768f"
      },
      "outputs": [],
      "source": [
        "result.names"
      ]
    },
    {
      "cell_type": "code",
      "execution_count": null,
      "metadata": {
        "id": "7moPp1PMiyot"
      },
      "outputs": [],
      "source": [
        "import cv2 as cv\n",
        "from google.colab.patches import cv2_imshow\n",
        "img = cv.imread(path, cv.IMREAD_UNCHANGED)\n",
        "\n",
        "threshold = 65\n",
        "output = {}\n",
        "output['₹1'],output['₹2'],output['₹5'],output['₹10'] = 0,0,0,0\n",
        "\n",
        "for i in result.boxes.data.tolist():\n",
        "  x1, y1, x2, y2, score, class_id = i\n",
        "  if score >= threshold/100:\n",
        "    print(score,class_id)\n",
        "    pred_class = result.names[class_id]\n",
        "\n",
        "    output[pred_class] += 1\n",
        "    # cv2.rectangle(img, (int(x1), int(y1)), (int(x2), int(y2)), (0, 0, 255), 20)\n",
        "    # cv2.putText(img, result.names[int(class_id)].replace(\"₹\",\"\"), (int(x1), int(y1 - 10)),\n",
        "    #             cv2.FONT_HERSHEY_SIMPLEX, 5, (0, 0, 255), 20, cv2.LINE_AA)\n",
        "    img = write_label_bounding_box(img,class_id,x1, y1, x2, y2,score)\n",
        "\n",
        "\n",
        "total = (output['₹1'])+(2*output['₹2'])+(5*output['₹5'])+(10*output['₹10'])\n",
        "print(f\"Total is -------->{total}\")\n",
        "#img = cv2.imread('0.jpg')\n",
        "scale_percent = 10 # percent of original size\n",
        "width = int(img.shape[1] * scale_percent / 100)\n",
        "height = int(img.shape[0] * scale_percent / 100)\n",
        "dim = (width, height)\n",
        "\n",
        "# resize image\n",
        "resized = cv2.resize(img, dim, interpolation = cv2.INTER_AREA)\n",
        "#cv2_imshow(resized)\n",
        "#cv2.imwrite('0.jpg',img)"
      ]
    },
    {
      "cell_type": "code",
      "execution_count": null,
      "metadata": {
        "colab": {
          "base_uri": "https://localhost:8080/"
        },
        "id": "1d3BOASWOABX",
        "outputId": "b0df795d-1ff7-49e4-97c6-a6d7cc359d59"
      },
      "outputs": [],
      "source": [
        "import cv2\n",
        "from ultralytics import YOLO\n",
        "from google.colab.patches import cv2_imshow\n",
        "\n",
        "# Open the video file\n",
        "video_path = \"/content/gdrive/MyDrive/yolov8/Object-Detection/coin-det/test-data /VID20230916140100.mp4\"\n",
        "cap = cv2.VideoCapture(video_path)\n",
        "frame_width = int(cap.get(3))\n",
        "frame_height = int(cap.get(4))\n",
        "fps = int(cap.get(5))\n",
        "\n",
        "# Define the codec and create VideoWriter object\n",
        "fourcc = cv2.VideoWriter_fourcc(*'XVID')\n",
        "output_path = 'output_video.avi'\n",
        "out = cv2.VideoWriter(output_path, fourcc, fps, (frame_width, frame_height))\n",
        "\n",
        "# Loop through the video frames\n",
        "while cap.isOpened():\n",
        "    # Read a frame from the video\n",
        "    success, frame = cap.read()\n",
        "\n",
        "    if success:\n",
        "        # Run YOLOv8 inference on the frame\n",
        "        results = model(frame)\n",
        "\n",
        "        # Visualize the results on the frame\n",
        "        annotated_frame = results[0].plot()\n",
        "        out.write(annotated_frame)\n",
        "        # Convert annotated_frame to OpenCV format\n",
        "        #annotated_frame = annotated_frame[:, :, ::-1]\n",
        "\n",
        "        # Display the annotated frame\n",
        "        #cv2_imshow(annotated_frame)\n",
        "\n",
        "        # Break the loop if 'q' is pressed\n",
        "        if cv2.waitKey(1) & 0xFF == ord(\"q\"):\n",
        "            break\n",
        "    else:\n",
        "        # Break the loop if the end of the video is reached\n",
        "        break\n",
        "\n",
        "# Release the video capture object and close the display window\n",
        "cap.release()\n",
        "out.release()\n",
        "cv2.destroyAllWindows()"
      ]
    }
  ],
  "metadata": {
    "accelerator": "GPU",
    "colab": {
      "provenance": []
    },
    "kernelspec": {
      "display_name": "Python 3",
      "name": "python3"
    },
    "language_info": {
      "name": "python"
    }
  },
  "nbformat": 4,
  "nbformat_minor": 0
}
