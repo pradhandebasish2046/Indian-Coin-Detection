{
 "cells": [
  {
   "cell_type": "code",
   "execution_count": 1,
   "metadata": {},
   "outputs": [],
   "source": [
    "import os\n",
    "os.chdir('..//')"
   ]
  },
  {
   "cell_type": "code",
   "execution_count": 2,
   "metadata": {},
   "outputs": [
    {
     "name": "stdout",
     "output_type": "stream",
     "text": [
      "/home/debasish/home/Indian-Coin-Detection\n"
     ]
    }
   ],
   "source": [
    "!pwd"
   ]
  },
  {
   "cell_type": "code",
   "execution_count": 4,
   "metadata": {},
   "outputs": [],
   "source": [
    "from dataclasses import dataclass\n",
    "from pathlib import Path\n",
    "\n",
    "\n",
    "@dataclass(frozen=True)\n",
    "class DataValidationConfig:\n",
    "    root_dir: Path\n",
    "    STATUS_FILE: str\n",
    "    unzip_data_dir: Path\n",
    "    data_validation_req_dir_1 : list\n",
    "    data_validation_req_dir_2 : list\n",
    "    yolo_config_file_path : Path"
   ]
  },
  {
   "cell_type": "code",
   "execution_count": 5,
   "metadata": {},
   "outputs": [],
   "source": [
    "from Indian_Coin_Detection.constants import *\n",
    "from Indian_Coin_Detection.utils.common import read_yaml, create_directories"
   ]
  },
  {
   "cell_type": "code",
   "execution_count": 7,
   "metadata": {},
   "outputs": [],
   "source": [
    "class ConfigurationManager:\n",
    "    def __init__(self, config_filepath = CONFIG_FILE_PATH):\n",
    "\n",
    "        self.config = read_yaml(config_filepath)\n",
    "\n",
    "    \n",
    "    def get_data_validation_config(self) -> DataValidationConfig:\n",
    "        config = self.config.data_validation\n",
    "\n",
    "        data_validation_config = DataValidationConfig(\n",
    "            root_dir=config.root_dir,\n",
    "            STATUS_FILE=config.STATUS_FILE,\n",
    "            unzip_data_dir = config.unzip_data_dir,\n",
    "            data_validation_req_dir_1 = config.data_validation_req_dir_1,\n",
    "            data_validation_req_dir_2 = config.data_validation_req_dir_2,\n",
    "            yolo_config_file_path = config.yolo_config_file_path\n",
    "        )\n",
    "\n",
    "        return data_validation_config"
   ]
  },
  {
   "cell_type": "code",
   "execution_count": 8,
   "metadata": {},
   "outputs": [],
   "source": [
    "import os\n",
    "from Indian_Coin_Detection import logger"
   ]
  },
  {
   "cell_type": "code",
   "execution_count": 9,
   "metadata": {},
   "outputs": [],
   "source": [
    "class DataValiadtion:\n",
    "    def __init__(self, config: DataValidationConfig):\n",
    "        self.config = config\n",
    "\n",
    "\n",
    "    def validate_all_files_exist(self)-> bool:\n",
    "        logger.info(f\"Starting Data Validation\")\n",
    "        validation_status = False\n",
    "        try:\n",
    "            os.makedirs(self.config.root_dir, exist_ok=True)\n",
    "\n",
    "            folders1 = os.listdir(self.config.unzip_data_dir)\n",
    "\n",
    "            all_req_folder_present = True\n",
    "            for folder1 in self.config.data_validation_req_dir_1:\n",
    "                if folder1 not in folders1:\n",
    "                    all_req_folder_present = False\n",
    "                    print('loop1')\n",
    "                    break\n",
    "\n",
    "                sub_dir_2 = os.path.join(self.config.unzip_data_dir,folder1)\n",
    "                folders2 = os.listdir(sub_dir_2)\n",
    "                print(folders2,'000')\n",
    "                for folder2 in self.config.data_validation_req_dir_2:\n",
    "                    if folder2 not in folders2:\n",
    "                        all_req_folder_present = False\n",
    "                        print('loop2')\n",
    "                        break\n",
    "\n",
    "            if all_req_folder_present == True:\n",
    "                if os.path.isfile(self.config.yolo_config_file_path):\n",
    "                    validation_status = True\n",
    "\n",
    "\n",
    "        except Exception as e:\n",
    "            raise e\n",
    "        logger.info(f\"Validation Status is {validation_status}\")\n",
    "        with open(self.config.STATUS_FILE, 'w') as f:\n",
    "            f.write(f\"Validation status: {validation_status}\")\n",
    "        return validation_status"
   ]
  },
  {
   "cell_type": "code",
   "execution_count": 10,
   "metadata": {},
   "outputs": [
    {
     "name": "stdout",
     "output_type": "stream",
     "text": [
      "[2023-09-12 01:15:58,875: INFO: common: yaml file: config/config.yaml loaded successfully]\n",
      "[2023-09-12 01:15:58,878: INFO: 2111451867: Starting Data Validation]\n",
      "['train', 'valid'] 000\n",
      "['train', 'train.cache', 'valid.cache', 'valid'] 000\n",
      "[2023-09-12 01:15:58,883: INFO: 2111451867: Validation Status is True]\n",
      "True\n"
     ]
    }
   ],
   "source": [
    "try:\n",
    "    config = ConfigurationManager()\n",
    "    data_validation_config = config.get_data_validation_config()\n",
    "    data_validation = DataValiadtion(config=data_validation_config)\n",
    "    print(data_validation.validate_all_files_exist())\n",
    "except Exception as e:\n",
    "    raise e"
   ]
  }
 ],
 "metadata": {
  "kernelspec": {
   "display_name": ".venv",
   "language": "python",
   "name": "python3"
  },
  "language_info": {
   "codemirror_mode": {
    "name": "ipython",
    "version": 3
   },
   "file_extension": ".py",
   "mimetype": "text/x-python",
   "name": "python",
   "nbconvert_exporter": "python",
   "pygments_lexer": "ipython3",
   "version": "3.10.12"
  },
  "orig_nbformat": 4
 },
 "nbformat": 4,
 "nbformat_minor": 2
}
